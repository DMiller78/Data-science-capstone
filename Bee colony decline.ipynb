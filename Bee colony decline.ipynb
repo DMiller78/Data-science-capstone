{
 "cells": [
  {
   "cell_type": "markdown",
   "metadata": {},
   "source": [
    "Formating Jupyter notebook so that the font is easy to read. \n",
    "https://stackoverflow.com/questions/34303422/how-to-change-the-font-size-and-color-of-markdown-cell-in-ipython-py-2-7-noteb"
   ]
  },
  {
   "cell_type": "code",
   "execution_count": 1,
   "metadata": {},
   "outputs": [
    {
     "data": {
      "text/html": [
       "\n",
       "<style>\n",
       "\n",
       "div.cell { /* Tunes the space between cells */\n",
       "margin-top:1em;\n",
       "margin-bottom:1em;\n",
       "}\n",
       "\n",
       "div.text_cell_render h1 { /* Main titles bigger, centered */\n",
       "font-size: 2.2em;\n",
       "line-height:1.4em;\n",
       "text-align:center;\n",
       "}\n",
       "\n",
       "div.text_cell_render h2 { /*  Parts names nearer from text */\n",
       "margin-bottom: -0.4em;\n",
       "}\n",
       "\n",
       "\n",
       "div.text_cell_render { /* Customize text cells */\n",
       "font-family: 'Times New Roman';\n",
       "font-size:1.5em;\n",
       "line-height:1.4em;\n",
       "padding-left:3em;\n",
       "padding-right:3em;\n",
       "}\n",
       "</style>\n"
      ],
      "text/plain": [
       "<IPython.core.display.HTML object>"
      ]
     },
     "execution_count": 1,
     "metadata": {},
     "output_type": "execute_result"
    }
   ],
   "source": [
    "from IPython.core.display import HTML\n",
    "HTML(\"\"\"\n",
    "<style>\n",
    "\n",
    "div.cell { /* Tunes the space between cells */\n",
    "margin-top:1em;\n",
    "margin-bottom:1em;\n",
    "}\n",
    "\n",
    "div.text_cell_render h1 { /* Main titles bigger, centered */\n",
    "font-size: 2.2em;\n",
    "line-height:1.4em;\n",
    "text-align:center;\n",
    "}\n",
    "\n",
    "div.text_cell_render h2 { /*  Parts names nearer from text */\n",
    "margin-bottom: -0.4em;\n",
    "}\n",
    "\n",
    "\n",
    "div.text_cell_render { /* Customize text cells */\n",
    "font-family: 'Times New Roman';\n",
    "font-size:1.5em;\n",
    "line-height:1.4em;\n",
    "padding-left:3em;\n",
    "padding-right:3em;\n",
    "}\n",
    "</style>\n",
    "\"\"\")"
   ]
  },
  {
   "cell_type": "markdown",
   "metadata": {},
   "source": [
    "Honey Bee colony loss\n",
    "\n",
    "Github: https://github.com/DMiller78/Data-science-capstone\n",
    "\n",
    "Overview: \n",
    "In recent decades, there has been an alarming decrease of honey bee populations throughout the United States. Honey bees play a significant role as pollinators for many U.S. crops. There is an immediate need to understand what factors are driving the honey bee colony losses.\n",
    "\n",
    "Datasets: \n",
    "Bee Colony Statistical Data from 1987 - 2017\n",
    "Size:26 KB \n",
    "Data format: CSV  \n",
    "https://data.world/finley/bee-colony-statistical-data-from-1987-2017\n",
    "\n",
    "United States Department of Agriculture - Honey Bee Colonies \n",
    "\tSize: 47 KB \n",
    "\tData format: CSV\n",
    "\tReference: https://usda.library.cornell.edu/concern/publications/rn301137d?locale=en\n",
    "\n",
    "Additional sources: \n",
    "https://data.world/finley/bee-colony-statistical-data-from-1987-2017\n",
    "\n"
   ]
  },
  {
   "cell_type": "markdown",
   "metadata": {},
   "source": [
    "Glossary of terms: \n",
    "\n",
    "tal = Total Annual Loss\n",
    "talp = Total Annual Loss Percentage \n",
    "Beekeepers = Beekeepers\n",
    "beks = Beekeepers Exclusive to State\n",
    "beksp = Beekeepers Exclusive to State Percentage\n",
    "Colonies = Colonies \n",
    "ces = Colonies Exclusive to State\n",
    "cesp = Colonies Exclusive to State Percentage \n",
    "\n",
    "\n"
   ]
  },
  {
   "cell_type": "markdown",
   "metadata": {},
   "source": [
    "\n",
    "New Questions: \n",
    "1. Do states with 95% percent beekeepers exclusive to its state have lower total annual colony loss? \n",
    "2. What percentage of honey bee colonies are tranported to other states annual, and which states export the most colonies? \n",
    "3. Is there a significant difference between variables Colonies and colonies transported out of state (trans_col)? Testing with the t-statistic and p-value. \n"
   ]
  },
  {
   "cell_type": "code",
   "execution_count": 4,
   "metadata": {},
   "outputs": [],
   "source": [
    "import pandas as pd\n",
    "import numpy as np\n",
    "import matplotlib.pyplot as plt\n",
    "from mpl_toolkits.mplot3d import axes3d\n",
    "import seaborn as sns\n",
    "\n",
    "from sklearn.preprocessing import scale\n",
    "import sklearn.linear_model as skl_lm\n",
    "from sklearn.metrics import mean_squared_error, r2_score\n",
    "import statsmodels.api as sm\n",
    "import statsmodels.formula.api as smf\n",
    "\n",
    "%matplotlib inline\n",
    "plt.style.use('seaborn-white')"
   ]
  },
  {
   "cell_type": "code",
   "execution_count": 5,
   "metadata": {},
   "outputs": [],
   "source": [
    "df = pd.read_csv('/Users/mille/Desktop/BeeColony/BeeLoss.csv')\n"
   ]
  },
  {
   "cell_type": "code",
   "execution_count": 6,
   "metadata": {
    "scrolled": true
   },
   "outputs": [
    {
     "data": {
      "text/html": [
       "<div>\n",
       "<style scoped>\n",
       "    .dataframe tbody tr th:only-of-type {\n",
       "        vertical-align: middle;\n",
       "    }\n",
       "\n",
       "    .dataframe tbody tr th {\n",
       "        vertical-align: top;\n",
       "    }\n",
       "\n",
       "    .dataframe thead th {\n",
       "        text-align: right;\n",
       "    }\n",
       "</style>\n",
       "<table border=\"1\" class=\"dataframe\">\n",
       "  <thead>\n",
       "    <tr style=\"text-align: right;\">\n",
       "      <th></th>\n",
       "      <th>Year</th>\n",
       "      <th>Season</th>\n",
       "      <th>State</th>\n",
       "      <th>tal</th>\n",
       "      <th>talp</th>\n",
       "      <th>Beekeepers</th>\n",
       "      <th>beks</th>\n",
       "      <th>beksp</th>\n",
       "      <th>Colonies</th>\n",
       "      <th>ces</th>\n",
       "      <th>cesp</th>\n",
       "    </tr>\n",
       "  </thead>\n",
       "  <tbody>\n",
       "    <tr>\n",
       "      <th>0</th>\n",
       "      <td>2017</td>\n",
       "      <td>Annual</td>\n",
       "      <td>Massachusetts</td>\n",
       "      <td>0.159</td>\n",
       "      <td>15.9</td>\n",
       "      <td>87</td>\n",
       "      <td>0.943</td>\n",
       "      <td>94.3</td>\n",
       "      <td>27186</td>\n",
       "      <td>0.023</td>\n",
       "      <td>2.3</td>\n",
       "    </tr>\n",
       "    <tr>\n",
       "      <th>1</th>\n",
       "      <td>2017</td>\n",
       "      <td>Annual</td>\n",
       "      <td>Montana</td>\n",
       "      <td>0.171</td>\n",
       "      <td>17.1</td>\n",
       "      <td>21</td>\n",
       "      <td>0.524</td>\n",
       "      <td>52.4</td>\n",
       "      <td>35905</td>\n",
       "      <td>0.003</td>\n",
       "      <td>0.3</td>\n",
       "    </tr>\n",
       "    <tr>\n",
       "      <th>2</th>\n",
       "      <td>2017</td>\n",
       "      <td>Annual</td>\n",
       "      <td>Nevada</td>\n",
       "      <td>0.230</td>\n",
       "      <td>23.0</td>\n",
       "      <td>13</td>\n",
       "      <td>0.923</td>\n",
       "      <td>92.3</td>\n",
       "      <td>2512</td>\n",
       "      <td>0.052</td>\n",
       "      <td>5.2</td>\n",
       "    </tr>\n",
       "    <tr>\n",
       "      <th>3</th>\n",
       "      <td>2017</td>\n",
       "      <td>Annual</td>\n",
       "      <td>Maine</td>\n",
       "      <td>0.233</td>\n",
       "      <td>23.3</td>\n",
       "      <td>65</td>\n",
       "      <td>0.938</td>\n",
       "      <td>93.8</td>\n",
       "      <td>41102</td>\n",
       "      <td>0.014</td>\n",
       "      <td>1.4</td>\n",
       "    </tr>\n",
       "    <tr>\n",
       "      <th>4</th>\n",
       "      <td>2017</td>\n",
       "      <td>Annual</td>\n",
       "      <td>Wyoming</td>\n",
       "      <td>0.234</td>\n",
       "      <td>23.4</td>\n",
       "      <td>18</td>\n",
       "      <td>0.778</td>\n",
       "      <td>77.8</td>\n",
       "      <td>6521</td>\n",
       "      <td>0.014</td>\n",
       "      <td>1.4</td>\n",
       "    </tr>\n",
       "  </tbody>\n",
       "</table>\n",
       "</div>"
      ],
      "text/plain": [
       "   Year  Season          State    tal  talp  Beekeepers   beks  beksp  \\\n",
       "0  2017  Annual  Massachusetts  0.159  15.9          87  0.943   94.3   \n",
       "1  2017  Annual        Montana  0.171  17.1          21  0.524   52.4   \n",
       "2  2017  Annual         Nevada  0.230  23.0          13  0.923   92.3   \n",
       "3  2017  Annual          Maine  0.233  23.3          65  0.938   93.8   \n",
       "4  2017  Annual        Wyoming  0.234  23.4          18  0.778   77.8   \n",
       "\n",
       "   Colonies    ces  cesp  \n",
       "0     27186  0.023   2.3  \n",
       "1     35905  0.003   0.3  \n",
       "2      2512  0.052   5.2  \n",
       "3     41102  0.014   1.4  \n",
       "4      6521  0.014   1.4  "
      ]
     },
     "execution_count": 6,
     "metadata": {},
     "output_type": "execute_result"
    }
   ],
   "source": [
    "df.head()\n"
   ]
  },
  {
   "cell_type": "markdown",
   "metadata": {},
   "source": [
    "Shape of the data\n"
   ]
  },
  {
   "cell_type": "code",
   "execution_count": 7,
   "metadata": {
    "scrolled": true
   },
   "outputs": [
    {
     "data": {
      "text/plain": [
       "(365, 11)"
      ]
     },
     "execution_count": 7,
     "metadata": {},
     "output_type": "execute_result"
    }
   ],
   "source": [
    "df.index\n",
    "df.columns\n",
    "\n",
    "pd.DataFrame(df)\n",
    "#complete dataset 365 rows x 11 columns \n",
    "\n",
    "df.shape\n",
    "#(356, 11)"
   ]
  },
  {
   "cell_type": "code",
   "execution_count": 8,
   "metadata": {
    "scrolled": false
   },
   "outputs": [
    {
     "data": {
      "text/html": [
       "<div>\n",
       "<style scoped>\n",
       "    .dataframe tbody tr th:only-of-type {\n",
       "        vertical-align: middle;\n",
       "    }\n",
       "\n",
       "    .dataframe tbody tr th {\n",
       "        vertical-align: top;\n",
       "    }\n",
       "\n",
       "    .dataframe thead th {\n",
       "        text-align: right;\n",
       "    }\n",
       "</style>\n",
       "<table border=\"1\" class=\"dataframe\">\n",
       "  <thead>\n",
       "    <tr style=\"text-align: right;\">\n",
       "      <th></th>\n",
       "      <th>Season</th>\n",
       "      <th>State</th>\n",
       "    </tr>\n",
       "  </thead>\n",
       "  <tbody>\n",
       "    <tr>\n",
       "      <th>count</th>\n",
       "      <td>365</td>\n",
       "      <td>365</td>\n",
       "    </tr>\n",
       "    <tr>\n",
       "      <th>unique</th>\n",
       "      <td>1</td>\n",
       "      <td>53</td>\n",
       "    </tr>\n",
       "    <tr>\n",
       "      <th>top</th>\n",
       "      <td>Annual</td>\n",
       "      <td>Michigan</td>\n",
       "    </tr>\n",
       "    <tr>\n",
       "      <th>freq</th>\n",
       "      <td>365</td>\n",
       "      <td>7</td>\n",
       "    </tr>\n",
       "  </tbody>\n",
       "</table>\n",
       "</div>"
      ],
      "text/plain": [
       "        Season     State\n",
       "count      365       365\n",
       "unique       1        53\n",
       "top     Annual  Michigan\n",
       "freq       365         7"
      ]
     },
     "execution_count": 8,
     "metadata": {},
     "output_type": "execute_result"
    }
   ],
   "source": [
    "df.describe(include=[np.object])\n",
    "#Including only string columns in a DataFrame description.\n"
   ]
  },
  {
   "cell_type": "markdown",
   "metadata": {},
   "source": [
    "Missing data"
   ]
  },
  {
   "cell_type": "code",
   "execution_count": 9,
   "metadata": {},
   "outputs": [
    {
     "data": {
      "text/plain": [
       "Year           0\n",
       "Season         0\n",
       "State          0\n",
       "tal           16\n",
       "talp          16\n",
       "Beekeepers     0\n",
       "beks           0\n",
       "beksp          0\n",
       "Colonies       0\n",
       "ces            0\n",
       "cesp           0\n",
       "dtype: int64"
      ]
     },
     "execution_count": 9,
     "metadata": {},
     "output_type": "execute_result"
    }
   ],
   "source": [
    "df.isnull().sum()\n"
   ]
  },
  {
   "cell_type": "code",
   "execution_count": 10,
   "metadata": {},
   "outputs": [
    {
     "data": {
      "text/plain": [
       "Year          False\n",
       "Season        False\n",
       "State         False\n",
       "tal            True\n",
       "talp           True\n",
       "Beekeepers    False\n",
       "beks          False\n",
       "beksp         False\n",
       "Colonies      False\n",
       "ces           False\n",
       "cesp          False\n",
       "dtype: bool"
      ]
     },
     "execution_count": 10,
     "metadata": {},
     "output_type": "execute_result"
    }
   ],
   "source": [
    " df.isnull().any()\n",
    "\n"
   ]
  },
  {
   "cell_type": "code",
   "execution_count": 11,
   "metadata": {},
   "outputs": [
    {
     "data": {
      "text/plain": [
       "<matplotlib.axes._subplots.AxesSubplot at 0x266b1e5c160>"
      ]
     },
     "execution_count": 11,
     "metadata": {},
     "output_type": "execute_result"
    },
    {
     "data": {
      "image/png": "[encoded data removed]",
      "text/plain": [
       "<Figure size 432x288 with 1 Axes>"
      ]
     },
     "metadata": {},
     "output_type": "display_data"
    }
   ],
   "source": [
    "sns.heatmap(df.isnull(),yticklabels=False,cbar=False,cmap='viridis')"
   ]
  },
  {
   "cell_type": "markdown",
   "metadata": {},
   "source": [
    "General exploratory analysis of dataframe"
   ]
  },
  {
   "cell_type": "code",
   "execution_count": 12,
   "metadata": {
    "scrolled": true
   },
   "outputs": [
    {
     "data": {
      "text/html": [
       "<div>\n",
       "<style scoped>\n",
       "    .dataframe tbody tr th:only-of-type {\n",
       "        vertical-align: middle;\n",
       "    }\n",
       "\n",
       "    .dataframe tbody tr th {\n",
       "        vertical-align: top;\n",
       "    }\n",
       "\n",
       "    .dataframe thead th {\n",
       "        text-align: right;\n",
       "    }\n",
       "</style>\n",
       "<table border=\"1\" class=\"dataframe\">\n",
       "  <thead>\n",
       "    <tr style=\"text-align: right;\">\n",
       "      <th></th>\n",
       "      <th>Year</th>\n",
       "      <th>Season</th>\n",
       "      <th>State</th>\n",
       "      <th>tal</th>\n",
       "      <th>talp</th>\n",
       "      <th>Beekeepers</th>\n",
       "      <th>beks</th>\n",
       "      <th>beksp</th>\n",
       "      <th>Colonies</th>\n",
       "      <th>ces</th>\n",
       "      <th>cesp</th>\n",
       "    </tr>\n",
       "  </thead>\n",
       "  <tbody>\n",
       "    <tr>\n",
       "      <th>count</th>\n",
       "      <td>365.000000</td>\n",
       "      <td>365</td>\n",
       "      <td>365</td>\n",
       "      <td>349.000000</td>\n",
       "      <td>349.000000</td>\n",
       "      <td>365.000000</td>\n",
       "      <td>365.000000</td>\n",
       "      <td>365.000000</td>\n",
       "      <td>365.000000</td>\n",
       "      <td>365.000000</td>\n",
       "      <td>365.000000</td>\n",
       "    </tr>\n",
       "    <tr>\n",
       "      <th>unique</th>\n",
       "      <td>NaN</td>\n",
       "      <td>1</td>\n",
       "      <td>53</td>\n",
       "      <td>NaN</td>\n",
       "      <td>NaN</td>\n",
       "      <td>NaN</td>\n",
       "      <td>NaN</td>\n",
       "      <td>NaN</td>\n",
       "      <td>NaN</td>\n",
       "      <td>NaN</td>\n",
       "      <td>NaN</td>\n",
       "    </tr>\n",
       "    <tr>\n",
       "      <th>top</th>\n",
       "      <td>NaN</td>\n",
       "      <td>Annual</td>\n",
       "      <td>Michigan</td>\n",
       "      <td>NaN</td>\n",
       "      <td>NaN</td>\n",
       "      <td>NaN</td>\n",
       "      <td>NaN</td>\n",
       "      <td>NaN</td>\n",
       "      <td>NaN</td>\n",
       "      <td>NaN</td>\n",
       "      <td>NaN</td>\n",
       "    </tr>\n",
       "    <tr>\n",
       "      <th>freq</th>\n",
       "      <td>NaN</td>\n",
       "      <td>365</td>\n",
       "      <td>7</td>\n",
       "      <td>NaN</td>\n",
       "      <td>NaN</td>\n",
       "      <td>NaN</td>\n",
       "      <td>NaN</td>\n",
       "      <td>NaN</td>\n",
       "      <td>NaN</td>\n",
       "      <td>NaN</td>\n",
       "      <td>NaN</td>\n",
       "    </tr>\n",
       "    <tr>\n",
       "      <th>mean</th>\n",
       "      <td>2013.989041</td>\n",
       "      <td>NaN</td>\n",
       "      <td>NaN</td>\n",
       "      <td>0.411450</td>\n",
       "      <td>41.144986</td>\n",
       "      <td>85.038356</td>\n",
       "      <td>0.854014</td>\n",
       "      <td>85.401370</td>\n",
       "      <td>37175.526027</td>\n",
       "      <td>0.400003</td>\n",
       "      <td>40.000274</td>\n",
       "    </tr>\n",
       "    <tr>\n",
       "      <th>std</th>\n",
       "      <td>2.002715</td>\n",
       "      <td>NaN</td>\n",
       "      <td>NaN</td>\n",
       "      <td>0.143868</td>\n",
       "      <td>14.386808</td>\n",
       "      <td>107.269526</td>\n",
       "      <td>0.205144</td>\n",
       "      <td>20.514442</td>\n",
       "      <td>86769.745718</td>\n",
       "      <td>0.390924</td>\n",
       "      <td>39.092437</td>\n",
       "    </tr>\n",
       "    <tr>\n",
       "      <th>min</th>\n",
       "      <td>2011.000000</td>\n",
       "      <td>NaN</td>\n",
       "      <td>NaN</td>\n",
       "      <td>0.075000</td>\n",
       "      <td>7.500000</td>\n",
       "      <td>1.000000</td>\n",
       "      <td>0.000000</td>\n",
       "      <td>0.000000</td>\n",
       "      <td>1.000000</td>\n",
       "      <td>0.000000</td>\n",
       "      <td>0.000000</td>\n",
       "    </tr>\n",
       "    <tr>\n",
       "      <th>25%</th>\n",
       "      <td>2012.000000</td>\n",
       "      <td>NaN</td>\n",
       "      <td>NaN</td>\n",
       "      <td>0.314000</td>\n",
       "      <td>31.400000</td>\n",
       "      <td>21.000000</td>\n",
       "      <td>0.838000</td>\n",
       "      <td>83.800000</td>\n",
       "      <td>952.000000</td>\n",
       "      <td>0.032000</td>\n",
       "      <td>3.200000</td>\n",
       "    </tr>\n",
       "    <tr>\n",
       "      <th>50%</th>\n",
       "      <td>2014.000000</td>\n",
       "      <td>NaN</td>\n",
       "      <td>NaN</td>\n",
       "      <td>0.398000</td>\n",
       "      <td>39.800000</td>\n",
       "      <td>53.000000</td>\n",
       "      <td>0.929000</td>\n",
       "      <td>92.900000</td>\n",
       "      <td>4799.000000</td>\n",
       "      <td>0.207000</td>\n",
       "      <td>20.700000</td>\n",
       "    </tr>\n",
       "    <tr>\n",
       "      <th>75%</th>\n",
       "      <td>2016.000000</td>\n",
       "      <td>NaN</td>\n",
       "      <td>NaN</td>\n",
       "      <td>0.485000</td>\n",
       "      <td>48.500000</td>\n",
       "      <td>112.000000</td>\n",
       "      <td>0.969000</td>\n",
       "      <td>96.900000</td>\n",
       "      <td>33093.000000</td>\n",
       "      <td>0.828000</td>\n",
       "      <td>82.800000</td>\n",
       "    </tr>\n",
       "    <tr>\n",
       "      <th>max</th>\n",
       "      <td>2017.000000</td>\n",
       "      <td>NaN</td>\n",
       "      <td>NaN</td>\n",
       "      <td>0.869000</td>\n",
       "      <td>86.900000</td>\n",
       "      <td>828.000000</td>\n",
       "      <td>1.000000</td>\n",
       "      <td>100.000000</td>\n",
       "      <td>625897.000000</td>\n",
       "      <td>1.000000</td>\n",
       "      <td>100.000000</td>\n",
       "    </tr>\n",
       "  </tbody>\n",
       "</table>\n",
       "</div>"
      ],
      "text/plain": [
       "               Year  Season     State         tal        talp  Beekeepers  \\\n",
       "count    365.000000     365       365  349.000000  349.000000  365.000000   \n",
       "unique          NaN       1        53         NaN         NaN         NaN   \n",
       "top             NaN  Annual  Michigan         NaN         NaN         NaN   \n",
       "freq            NaN     365         7         NaN         NaN         NaN   \n",
       "mean    2013.989041     NaN       NaN    0.411450   41.144986   85.038356   \n",
       "std        2.002715     NaN       NaN    0.143868   14.386808  107.269526   \n",
       "min     2011.000000     NaN       NaN    0.075000    7.500000    1.000000   \n",
       "25%     2012.000000     NaN       NaN    0.314000   31.400000   21.000000   \n",
       "50%     2014.000000     NaN       NaN    0.398000   39.800000   53.000000   \n",
       "75%     2016.000000     NaN       NaN    0.485000   48.500000  112.000000   \n",
       "max     2017.000000     NaN       NaN    0.869000   86.900000  828.000000   \n",
       "\n",
       "              beks       beksp       Colonies         ces        cesp  \n",
       "count   365.000000  365.000000     365.000000  365.000000  365.000000  \n",
       "unique         NaN         NaN            NaN         NaN         NaN  \n",
       "top            NaN         NaN            NaN         NaN         NaN  \n",
       "freq           NaN         NaN            NaN         NaN         NaN  \n",
       "mean      0.854014   85.401370   37175.526027    0.400003   40.000274  \n",
       "std       0.205144   20.514442   86769.745718    0.390924   39.092437  \n",
       "min       0.000000    0.000000       1.000000    0.000000    0.000000  \n",
       "25%       0.838000   83.800000     952.000000    0.032000    3.200000  \n",
       "50%       0.929000   92.900000    4799.000000    0.207000   20.700000  \n",
       "75%       0.969000   96.900000   33093.000000    0.828000   82.800000  \n",
       "max       1.000000  100.000000  625897.000000    1.000000  100.000000  "
      ]
     },
     "execution_count": 12,
     "metadata": {},
     "output_type": "execute_result"
    }
   ],
   "source": [
    "df.describe(include='all')\n"
   ]
  },
  {
   "cell_type": "markdown",
   "metadata": {},
   "source": [
    "Noteable statistics: \n",
    "\n",
    "Total_Annual_Loss_percentage range: 7.5% to 86.9% with a std of 14.38% - mean 39.8% \n",
    "    - A mean of 39.8% for total annual loss is very high for a national statistic over a 7-year period. \n",
    "    \n",
    "Beekeepers range: 1.0 to 828.0 with a std of 107.26 - 85.03\n",
    "    - High standard deviation 107.26 may suggest high variability in beekeepers across the United States. \n",
    "    \n",
    "Beekeepers_Exclusive_to_state_percentage range: 0.0 % to 100.00% with std of 20.5 - mean 85.4%\n",
    "    - A high mean of 85.4% suggests that majority of states have beekeepers exclusive to their state. \n",
    "    \n",
    "Colonies range: 1.00 to 625897.00 with a std of 86769.745718 - mean 37175.526027\n",
    "    - This is an extremely high standard deviation of 86769.745 for honey bee colonies. This suggests that there is a very uneven distribution of honey bee colonies throughout the United States. \n",
    "    \n",
    "Colonies_Exclusive_to_State_percentage range: 0.00 to 100.00% with a std of 39.09% - mean 40.0% \n",
    "    - Only a mean 40.0% of colonies are exclusive to there state. Meaning that 60.0% of honey bee colonies are transported to other states during growing seasons to aid with pollination. "
   ]
  },
  {
   "cell_type": "markdown",
   "metadata": {},
   "source": [
    "Question 1:\n",
    "States with 95% beekeepers exclusive to state have lower total annual colony loss? \n",
    "\n",
    "In order to answer this question we first need to use the groupby method in pandas and sort the values by State. Once we have used groupby and sort to arrange the dataframe we can then use a Seaborn barplot to display the data. "
   ]
  },
  {
   "cell_type": "code",
   "execution_count": 13,
   "metadata": {},
   "outputs": [
    {
     "data": {
      "image/png": "[encoded data removed]",
      "text/plain": [
       "<Figure size 1080x576 with 1 Axes>"
      ]
     },
     "metadata": {},
     "output_type": "display_data"
    }
   ],
   "source": [
    "state_col = df[['State','beksp']].groupby(['State']).mean()\n",
    "state_col = state_col['beksp'].sort_values(ascending=False)[:50]\n",
    "\n",
    "state_col_keys = state_col.index\n",
    "state_col_val = state_col.values\n",
    "\n",
    "fig,ax = plt.subplots(figsize=(15,8))\n",
    "sns.barplot(x = state_col_keys,y =state_col_val)\n",
    "\n",
    "plt.title('Beekeepers Exclusive to State')\n",
    "plt.ylabel('Percentage')\n",
    "ticks = plt.setp(ax.get_xticklabels(),rotation=90)"
   ]
  },
  {
   "cell_type": "markdown",
   "metadata": {},
   "source": [
    "Our initial Seaborn barplot above does show a significant number of states with beekeepers exclusive to states above 95%. "
   ]
  },
  {
   "cell_type": "code",
   "execution_count": 14,
   "metadata": {},
   "outputs": [
    {
     "data": {
      "text/plain": [
       "array([[<matplotlib.axes._subplots.AxesSubplot object at 0x00000266B214FB38>,\n",
       "        <matplotlib.axes._subplots.AxesSubplot object at 0x00000266B25CE470>,\n",
       "        <matplotlib.axes._subplots.AxesSubplot object at 0x00000266B23458D0>],\n",
       "       [<matplotlib.axes._subplots.AxesSubplot object at 0x00000266B236ED30>,\n",
       "        <matplotlib.axes._subplots.AxesSubplot object at 0x00000266B239C470>,\n",
       "        <matplotlib.axes._subplots.AxesSubplot object at 0x00000266B239C4A8>],\n",
       "       [<matplotlib.axes._subplots.AxesSubplot object at 0x00000266B23F72B0>,\n",
       "        <matplotlib.axes._subplots.AxesSubplot object at 0x00000266B241F9B0>,\n",
       "        <matplotlib.axes._subplots.AxesSubplot object at 0x00000266B24510F0>]],\n",
       "      dtype=object)"
      ]
     },
     "execution_count": 14,
     "metadata": {},
     "output_type": "execute_result"
    },
    {
     "data": {
      "image/png": "[encoded data removed]",
      "text/plain": [
       "<Figure size 1080x576 with 9 Axes>"
      ]
     },
     "metadata": {},
     "output_type": "display_data"
    }
   ],
   "source": [
    "df.boxplot(column=['beksp', 'talp', \n",
    "                   'cesp'], by=['Year'], layout = (3,3), rot=90, fontsize=9, figsize=(15,8))\n",
    "\n",
    "#beksp - beekeepers exclusive to state percentage\n",
    "#cesp - colonies exclusive to state percentage\n",
    "#talp - total annual loss percentage "
   ]
  },
  {
   "cell_type": "markdown",
   "metadata": {},
   "source": [
    "#beksp - beekeepers exclusive to state percentage\n",
    "#cesp - colonies exclusive to state percentage\n",
    "#talp - total annual loss percentage \n",
    "\n",
    "In the non-sorted dataframe it is unclear if beekeepers exclusive to state percentage (beksp) will have an effect on the total annual loss (talp). "
   ]
  },
  {
   "cell_type": "code",
   "execution_count": 15,
   "metadata": {},
   "outputs": [],
   "source": [
    "bk = df[df['beksp'] > 95]\n"
   ]
  },
  {
   "cell_type": "code",
   "execution_count": 16,
   "metadata": {},
   "outputs": [
    {
     "data": {
      "text/plain": [
       "array([[<matplotlib.axes._subplots.AxesSubplot object at 0x00000266B2BDD7F0>,\n",
       "        <matplotlib.axes._subplots.AxesSubplot object at 0x00000266B2BE7C50>,\n",
       "        <matplotlib.axes._subplots.AxesSubplot object at 0x00000266B293A470>],\n",
       "       [<matplotlib.axes._subplots.AxesSubplot object at 0x00000266B295FC50>,\n",
       "        <matplotlib.axes._subplots.AxesSubplot object at 0x00000266B298E710>,\n",
       "        <matplotlib.axes._subplots.AxesSubplot object at 0x00000266B298E748>],\n",
       "       [<matplotlib.axes._subplots.AxesSubplot object at 0x00000266B29E3C50>,\n",
       "        <matplotlib.axes._subplots.AxesSubplot object at 0x00000266B2A13710>,\n",
       "        <matplotlib.axes._subplots.AxesSubplot object at 0x00000266B2A431D0>]],\n",
       "      dtype=object)"
      ]
     },
     "execution_count": 16,
     "metadata": {},
     "output_type": "execute_result"
    },
    {
     "data": {
      "image/png": "[encoded data removed]",
      "text/plain": [
       "<Figure size 1080x576 with 9 Axes>"
      ]
     },
     "metadata": {},
     "output_type": "display_data"
    }
   ],
   "source": [
    "bk.boxplot(column=['beksp', 'talp', 'cesp'], by=['Year'], layout = (3,3), rot=90, fontsize=7, figsize=(15,8))"
   ]
  },
  {
   "cell_type": "markdown",
   "metadata": {},
   "source": [
    "Above is the figure of beekeepers exclusive to state (beksp) is sorted to 95%. The total annual loss percentage (talp) is only slightly lower then the orginal dataframe. However, the colonies exclusive to state (cesp) the mean per year were significantly higher. \n",
    "\n",
    "Total Annual Loss Percent \n",
    "Orginal DF: 39.8%\n",
    "Sorted > 95% bk: 40.6% \n",
    "Sorted < 95% bke: 39.7 % \n",
    "\n",
    "The higher percentage of beekeepers exclusive to state > 95% has little effect on the total annual loss percentage. Even with states that have higher percentage of beekeepers tending to the honey bee colonies this has little effect on countering the total annual colony losses. "
   ]
  },
  {
   "cell_type": "code",
   "execution_count": 17,
   "metadata": {},
   "outputs": [
    {
     "data": {
      "text/html": [
       "<div>\n",
       "<style scoped>\n",
       "    .dataframe tbody tr th:only-of-type {\n",
       "        vertical-align: middle;\n",
       "    }\n",
       "\n",
       "    .dataframe tbody tr th {\n",
       "        vertical-align: top;\n",
       "    }\n",
       "\n",
       "    .dataframe thead th {\n",
       "        text-align: right;\n",
       "    }\n",
       "</style>\n",
       "<table border=\"1\" class=\"dataframe\">\n",
       "  <thead>\n",
       "    <tr style=\"text-align: right;\">\n",
       "      <th></th>\n",
       "      <th>Year</th>\n",
       "      <th>tal</th>\n",
       "      <th>talp</th>\n",
       "      <th>Beekeepers</th>\n",
       "      <th>beks</th>\n",
       "      <th>beksp</th>\n",
       "      <th>Colonies</th>\n",
       "      <th>ces</th>\n",
       "      <th>cesp</th>\n",
       "    </tr>\n",
       "  </thead>\n",
       "  <tbody>\n",
       "    <tr>\n",
       "      <th>count</th>\n",
       "      <td>140.000000</td>\n",
       "      <td>128.000000</td>\n",
       "      <td>128.000000</td>\n",
       "      <td>140.000000</td>\n",
       "      <td>140.000000</td>\n",
       "      <td>140.000000</td>\n",
       "      <td>140.000000</td>\n",
       "      <td>140.000000</td>\n",
       "      <td>140.000000</td>\n",
       "    </tr>\n",
       "    <tr>\n",
       "      <th>mean</th>\n",
       "      <td>2013.892857</td>\n",
       "      <td>0.413938</td>\n",
       "      <td>41.393750</td>\n",
       "      <td>127.185714</td>\n",
       "      <td>0.977207</td>\n",
       "      <td>97.720714</td>\n",
       "      <td>7765.971429</td>\n",
       "      <td>0.684707</td>\n",
       "      <td>68.470714</td>\n",
       "    </tr>\n",
       "    <tr>\n",
       "      <th>std</th>\n",
       "      <td>1.995305</td>\n",
       "      <td>0.144589</td>\n",
       "      <td>14.458862</td>\n",
       "      <td>151.521520</td>\n",
       "      <td>0.015307</td>\n",
       "      <td>1.530670</td>\n",
       "      <td>14438.953040</td>\n",
       "      <td>0.364914</td>\n",
       "      <td>36.491360</td>\n",
       "    </tr>\n",
       "    <tr>\n",
       "      <th>min</th>\n",
       "      <td>2011.000000</td>\n",
       "      <td>0.075000</td>\n",
       "      <td>7.500000</td>\n",
       "      <td>1.000000</td>\n",
       "      <td>0.951000</td>\n",
       "      <td>95.100000</td>\n",
       "      <td>1.000000</td>\n",
       "      <td>0.013000</td>\n",
       "      <td>1.300000</td>\n",
       "    </tr>\n",
       "    <tr>\n",
       "      <th>25%</th>\n",
       "      <td>2012.000000</td>\n",
       "      <td>0.333500</td>\n",
       "      <td>33.350000</td>\n",
       "      <td>29.750000</td>\n",
       "      <td>0.964750</td>\n",
       "      <td>96.475000</td>\n",
       "      <td>764.000000</td>\n",
       "      <td>0.262000</td>\n",
       "      <td>26.200000</td>\n",
       "    </tr>\n",
       "    <tr>\n",
       "      <th>50%</th>\n",
       "      <td>2014.000000</td>\n",
       "      <td>0.406500</td>\n",
       "      <td>40.650000</td>\n",
       "      <td>77.000000</td>\n",
       "      <td>0.975000</td>\n",
       "      <td>97.500000</td>\n",
       "      <td>1858.000000</td>\n",
       "      <td>0.907000</td>\n",
       "      <td>90.700000</td>\n",
       "    </tr>\n",
       "    <tr>\n",
       "      <th>75%</th>\n",
       "      <td>2016.000000</td>\n",
       "      <td>0.480000</td>\n",
       "      <td>48.000000</td>\n",
       "      <td>165.000000</td>\n",
       "      <td>0.987000</td>\n",
       "      <td>98.700000</td>\n",
       "      <td>6740.500000</td>\n",
       "      <td>0.996250</td>\n",
       "      <td>99.625000</td>\n",
       "    </tr>\n",
       "    <tr>\n",
       "      <th>max</th>\n",
       "      <td>2017.000000</td>\n",
       "      <td>0.853000</td>\n",
       "      <td>85.300000</td>\n",
       "      <td>828.000000</td>\n",
       "      <td>1.000000</td>\n",
       "      <td>100.000000</td>\n",
       "      <td>84676.000000</td>\n",
       "      <td>1.000000</td>\n",
       "      <td>100.000000</td>\n",
       "    </tr>\n",
       "  </tbody>\n",
       "</table>\n",
       "</div>"
      ],
      "text/plain": [
       "              Year         tal        talp  Beekeepers        beks  \\\n",
       "count   140.000000  128.000000  128.000000  140.000000  140.000000   \n",
       "mean   2013.892857    0.413938   41.393750  127.185714    0.977207   \n",
       "std       1.995305    0.144589   14.458862  151.521520    0.015307   \n",
       "min    2011.000000    0.075000    7.500000    1.000000    0.951000   \n",
       "25%    2012.000000    0.333500   33.350000   29.750000    0.964750   \n",
       "50%    2014.000000    0.406500   40.650000   77.000000    0.975000   \n",
       "75%    2016.000000    0.480000   48.000000  165.000000    0.987000   \n",
       "max    2017.000000    0.853000   85.300000  828.000000    1.000000   \n",
       "\n",
       "            beksp      Colonies         ces        cesp  \n",
       "count  140.000000    140.000000  140.000000  140.000000  \n",
       "mean    97.720714   7765.971429    0.684707   68.470714  \n",
       "std      1.530670  14438.953040    0.364914   36.491360  \n",
       "min     95.100000      1.000000    0.013000    1.300000  \n",
       "25%     96.475000    764.000000    0.262000   26.200000  \n",
       "50%     97.500000   1858.000000    0.907000   90.700000  \n",
       "75%     98.700000   6740.500000    0.996250   99.625000  \n",
       "max    100.000000  84676.000000    1.000000  100.000000  "
      ]
     },
     "execution_count": 17,
     "metadata": {},
     "output_type": "execute_result"
    }
   ],
   "source": [
    "bk.describe()"
   ]
  },
  {
   "cell_type": "code",
   "execution_count": 18,
   "metadata": {},
   "outputs": [],
   "source": [
    "bke = df[df['beksp'] < 95]\n"
   ]
  },
  {
   "cell_type": "code",
   "execution_count": 19,
   "metadata": {},
   "outputs": [
    {
     "data": {
      "text/html": [
       "<div>\n",
       "<style scoped>\n",
       "    .dataframe tbody tr th:only-of-type {\n",
       "        vertical-align: middle;\n",
       "    }\n",
       "\n",
       "    .dataframe tbody tr th {\n",
       "        vertical-align: top;\n",
       "    }\n",
       "\n",
       "    .dataframe thead th {\n",
       "        text-align: right;\n",
       "    }\n",
       "</style>\n",
       "<table border=\"1\" class=\"dataframe\">\n",
       "  <thead>\n",
       "    <tr style=\"text-align: right;\">\n",
       "      <th></th>\n",
       "      <th>Year</th>\n",
       "      <th>tal</th>\n",
       "      <th>talp</th>\n",
       "      <th>Beekeepers</th>\n",
       "      <th>beks</th>\n",
       "      <th>beksp</th>\n",
       "      <th>Colonies</th>\n",
       "      <th>ces</th>\n",
       "      <th>cesp</th>\n",
       "    </tr>\n",
       "  </thead>\n",
       "  <tbody>\n",
       "    <tr>\n",
       "      <th>count</th>\n",
       "      <td>219.000000</td>\n",
       "      <td>215.000000</td>\n",
       "      <td>215.000000</td>\n",
       "      <td>219.000000</td>\n",
       "      <td>219.000000</td>\n",
       "      <td>219.000000</td>\n",
       "      <td>219.000000</td>\n",
       "      <td>219.000000</td>\n",
       "      <td>219.000000</td>\n",
       "    </tr>\n",
       "    <tr>\n",
       "      <th>mean</th>\n",
       "      <td>2014.073059</td>\n",
       "      <td>0.410935</td>\n",
       "      <td>41.093488</td>\n",
       "      <td>57.853881</td>\n",
       "      <td>0.772630</td>\n",
       "      <td>77.263014</td>\n",
       "      <td>56502.840183</td>\n",
       "      <td>0.223288</td>\n",
       "      <td>22.328767</td>\n",
       "    </tr>\n",
       "    <tr>\n",
       "      <th>std</th>\n",
       "      <td>2.016936</td>\n",
       "      <td>0.144221</td>\n",
       "      <td>14.422145</td>\n",
       "      <td>51.105814</td>\n",
       "      <td>0.231227</td>\n",
       "      <td>23.122715</td>\n",
       "      <td>107201.839289</td>\n",
       "      <td>0.292216</td>\n",
       "      <td>29.221606</td>\n",
       "    </tr>\n",
       "    <tr>\n",
       "      <th>min</th>\n",
       "      <td>2011.000000</td>\n",
       "      <td>0.139000</td>\n",
       "      <td>13.900000</td>\n",
       "      <td>2.000000</td>\n",
       "      <td>0.000000</td>\n",
       "      <td>0.000000</td>\n",
       "      <td>6.000000</td>\n",
       "      <td>0.000000</td>\n",
       "      <td>0.000000</td>\n",
       "    </tr>\n",
       "    <tr>\n",
       "      <th>25%</th>\n",
       "      <td>2012.000000</td>\n",
       "      <td>0.303500</td>\n",
       "      <td>30.350000</td>\n",
       "      <td>16.500000</td>\n",
       "      <td>0.727000</td>\n",
       "      <td>72.700000</td>\n",
       "      <td>1199.000000</td>\n",
       "      <td>0.011500</td>\n",
       "      <td>1.150000</td>\n",
       "    </tr>\n",
       "    <tr>\n",
       "      <th>50%</th>\n",
       "      <td>2014.000000</td>\n",
       "      <td>0.397000</td>\n",
       "      <td>39.700000</td>\n",
       "      <td>43.000000</td>\n",
       "      <td>0.868000</td>\n",
       "      <td>86.800000</td>\n",
       "      <td>16311.000000</td>\n",
       "      <td>0.080000</td>\n",
       "      <td>8.000000</td>\n",
       "    </tr>\n",
       "    <tr>\n",
       "      <th>75%</th>\n",
       "      <td>2016.000000</td>\n",
       "      <td>0.492000</td>\n",
       "      <td>49.200000</td>\n",
       "      <td>80.000000</td>\n",
       "      <td>0.917000</td>\n",
       "      <td>91.700000</td>\n",
       "      <td>54925.500000</td>\n",
       "      <td>0.337000</td>\n",
       "      <td>33.700000</td>\n",
       "    </tr>\n",
       "    <tr>\n",
       "      <th>max</th>\n",
       "      <td>2017.000000</td>\n",
       "      <td>0.869000</td>\n",
       "      <td>86.900000</td>\n",
       "      <td>253.000000</td>\n",
       "      <td>0.948000</td>\n",
       "      <td>94.800000</td>\n",
       "      <td>625897.000000</td>\n",
       "      <td>1.000000</td>\n",
       "      <td>100.000000</td>\n",
       "    </tr>\n",
       "  </tbody>\n",
       "</table>\n",
       "</div>"
      ],
      "text/plain": [
       "              Year         tal        talp  Beekeepers        beks  \\\n",
       "count   219.000000  215.000000  215.000000  219.000000  219.000000   \n",
       "mean   2014.073059    0.410935   41.093488   57.853881    0.772630   \n",
       "std       2.016936    0.144221   14.422145   51.105814    0.231227   \n",
       "min    2011.000000    0.139000   13.900000    2.000000    0.000000   \n",
       "25%    2012.000000    0.303500   30.350000   16.500000    0.727000   \n",
       "50%    2014.000000    0.397000   39.700000   43.000000    0.868000   \n",
       "75%    2016.000000    0.492000   49.200000   80.000000    0.917000   \n",
       "max    2017.000000    0.869000   86.900000  253.000000    0.948000   \n",
       "\n",
       "            beksp       Colonies         ces        cesp  \n",
       "count  219.000000     219.000000  219.000000  219.000000  \n",
       "mean    77.263014   56502.840183    0.223288   22.328767  \n",
       "std     23.122715  107201.839289    0.292216   29.221606  \n",
       "min      0.000000       6.000000    0.000000    0.000000  \n",
       "25%     72.700000    1199.000000    0.011500    1.150000  \n",
       "50%     86.800000   16311.000000    0.080000    8.000000  \n",
       "75%     91.700000   54925.500000    0.337000   33.700000  \n",
       "max     94.800000  625897.000000    1.000000  100.000000  "
      ]
     },
     "execution_count": 19,
     "metadata": {},
     "output_type": "execute_result"
    }
   ],
   "source": [
    "bke.describe()"
   ]
  },
  {
   "cell_type": "code",
   "execution_count": 20,
   "metadata": {},
   "outputs": [
    {
     "name": "stdout",
     "output_type": "stream",
     "text": [
      "First 3 plots, Orginal Dataframe\n",
      "Second 3 plots, Sorted Dataframe >95%\n",
      "Third 3 plots, Sorted Dataframe <95%\n"
     ]
    },
    {
     "data": {
      "text/plain": [
       "array([[<matplotlib.axes._subplots.AxesSubplot object at 0x00000266B4480438>,\n",
       "        <matplotlib.axes._subplots.AxesSubplot object at 0x00000266B44A44A8>,\n",
       "        <matplotlib.axes._subplots.AxesSubplot object at 0x00000266B44CD908>],\n",
       "       [<matplotlib.axes._subplots.AxesSubplot object at 0x00000266B44F4D68>,\n",
       "        <matplotlib.axes._subplots.AxesSubplot object at 0x00000266B4524828>,\n",
       "        <matplotlib.axes._subplots.AxesSubplot object at 0x00000266B4524860>],\n",
       "       [<matplotlib.axes._subplots.AxesSubplot object at 0x00000266B457BD68>,\n",
       "        <matplotlib.axes._subplots.AxesSubplot object at 0x00000266B45A9828>,\n",
       "        <matplotlib.axes._subplots.AxesSubplot object at 0x00000266B45D92E8>]],\n",
       "      dtype=object)"
      ]
     },
     "execution_count": 20,
     "metadata": {},
     "output_type": "execute_result"
    },
    {
     "data": {
      "image/png": "[encoded data removed]",
      "text/plain": [
       "<Figure size 1080x576 with 9 Axes>"
      ]
     },
     "metadata": {},
     "output_type": "display_data"
    },
    {
     "data": {
      "image/png": "[encoded data removed]",
      "text/plain": [
       "<Figure size 1080x576 with 9 Axes>"
      ]
     },
     "metadata": {},
     "output_type": "display_data"
    },
    {
     "data": {
      "image/png": "[encoded data removed]",
      "text/plain": [
       "<Figure size 1080x576 with 9 Axes>"
      ]
     },
     "metadata": {},
     "output_type": "display_data"
    }
   ],
   "source": [
    "print(\"First 3 plots, Orginal Dataframe\")\n",
    "print(\"Second 3 plots, Sorted Dataframe >95%\")\n",
    "print(\"Third 3 plots, Sorted Dataframe <95%\")\n",
    "\n",
    "\n",
    "df.boxplot(column=['beksp', 'talp', 'cesp'], by=['Year'], layout = (3,3), rot=90, fontsize=7, figsize=(15,8))\n",
    "bk.boxplot(column=['beksp', 'talp', 'cesp'], by=['Year'], layout = (3,3), rot=90, fontsize=7, figsize=(15,8))\n",
    "bke.boxplot(column=['beksp', 'talp', 'cesp'], by=['Year'], layout = (3,3), rot=90, fontsize=7, figsize=(15,8))"
   ]
  },
  {
   "cell_type": "markdown",
   "metadata": {},
   "source": [
    "No relationship between beekeepers exclusive to states and total annual colony loss. There is an relationship between beekeepers exclusive to state (beksp) and colonies exclusive to state (cesp). Higher beks percentage the higher ces percentage. Suggesting that beekeepers exclusive to states may also manage the colonies exclusive to states. "
   ]
  },
  {
   "cell_type": "markdown",
   "metadata": {},
   "source": [
    "Question 2: What percentage of honey bee colonies are tranported to other states annually, and what are the top 10 states in exporting honey bee colonies?"
   ]
  },
  {
   "cell_type": "markdown",
   "metadata": {},
   "source": [
    "In order to answer question 2. I first started by plotting a violinplot with seaborn to find the distribution of Colonies (counts) by year.  "
   ]
  },
  {
   "cell_type": "code",
   "execution_count": 31,
   "metadata": {},
   "outputs": [
    {
     "data": {
      "image/png": "[encoded data removed]",
      "text/plain": [
       "<Figure size 432x288 with 1 Axes>"
      ]
     },
     "metadata": {},
     "output_type": "display_data"
    }
   ],
   "source": [
    "ax = sns.violinplot(x=\"Year\", y=\"Colonies\",data=df, \n",
    "                    palette=\"Set2\", split=True,\n",
    "                    scale=\"count\", inner=\"quartile\")"
   ]
  },
  {
   "cell_type": "markdown",
   "metadata": {},
   "source": [
    "Next, I created new variables in order to quantify the percentage of honey bee colonies transported. \n",
    "\n",
    "The following variables were created: \n",
    "    \n",
    "    1. Colonies Exclusive to State (ces) * Colonies = Number of colonies exclusive to state in count value (ces_col)\n",
    "    2. Colonies - Number of colonies exclusive to state in count value (ces_col) = Colonies transported out of state (trans_col)\n",
    "    3. (Colonies transported out of state (trans_col) / Colonies) * 100 = Percentage Colonies transported out of state (trans_col_per)"
   ]
  },
  {
   "cell_type": "code",
   "execution_count": 85,
   "metadata": {},
   "outputs": [],
   "source": [
    "df['ces_col'] = ces_col\n",
    "df\n",
    "\n",
    "ces_col = (df['ces'])*(df['Colonies'])\n",
    "#ces_col\n",
    "\n",
    "#ces_col: colonies exclusive to state colony counts "
   ]
  },
  {
   "cell_type": "code",
   "execution_count": 82,
   "metadata": {},
   "outputs": [],
   "source": [
    "df['trans_col'] = trans_col\n",
    "df\n",
    "\n",
    "trans_col = (df['Colonies'])-(df['ces_col'])\n",
    "#trans_col\n",
    "\n",
    "#trans_col: colonies transported out of state"
   ]
  },
  {
   "cell_type": "code",
   "execution_count": 98,
   "metadata": {},
   "outputs": [],
   "source": [
    "df['trans_col_per'] = trans_col_per\n",
    "df\n",
    "\n",
    "trans_col_per = (df['trans_col'])/(df['Colonies'])*100\n",
    "#trans_col_per\n",
    "\n",
    "#trans_col_per: Percent of colonies transported "
   ]
  },
  {
   "cell_type": "markdown",
   "metadata": {},
   "source": [
    "Here are the added columns with in the updated dataframe. "
   ]
  },
  {
   "cell_type": "code",
   "execution_count": 99,
   "metadata": {},
   "outputs": [
    {
     "data": {
      "text/html": [
       "<div>\n",
       "<style scoped>\n",
       "    .dataframe tbody tr th:only-of-type {\n",
       "        vertical-align: middle;\n",
       "    }\n",
       "\n",
       "    .dataframe tbody tr th {\n",
       "        vertical-align: top;\n",
       "    }\n",
       "\n",
       "    .dataframe thead th {\n",
       "        text-align: right;\n",
       "    }\n",
       "</style>\n",
       "<table border=\"1\" class=\"dataframe\">\n",
       "  <thead>\n",
       "    <tr style=\"text-align: right;\">\n",
       "      <th></th>\n",
       "      <th>Year</th>\n",
       "      <th>Season</th>\n",
       "      <th>State</th>\n",
       "      <th>tal</th>\n",
       "      <th>talp</th>\n",
       "      <th>Beekeepers</th>\n",
       "      <th>beks</th>\n",
       "      <th>beksp</th>\n",
       "      <th>Colonies</th>\n",
       "      <th>ces</th>\n",
       "      <th>cesp</th>\n",
       "      <th>ces_col</th>\n",
       "      <th>trans_col</th>\n",
       "      <th>trans_col_per</th>\n",
       "    </tr>\n",
       "  </thead>\n",
       "  <tbody>\n",
       "    <tr>\n",
       "      <th>0</th>\n",
       "      <td>2017</td>\n",
       "      <td>Annual</td>\n",
       "      <td>Massachusetts</td>\n",
       "      <td>0.159</td>\n",
       "      <td>15.9</td>\n",
       "      <td>87</td>\n",
       "      <td>0.943</td>\n",
       "      <td>94.3</td>\n",
       "      <td>27186</td>\n",
       "      <td>0.023</td>\n",
       "      <td>2.3</td>\n",
       "      <td>625.278</td>\n",
       "      <td>26560.722</td>\n",
       "      <td>97.7</td>\n",
       "    </tr>\n",
       "    <tr>\n",
       "      <th>1</th>\n",
       "      <td>2017</td>\n",
       "      <td>Annual</td>\n",
       "      <td>Montana</td>\n",
       "      <td>0.171</td>\n",
       "      <td>17.1</td>\n",
       "      <td>21</td>\n",
       "      <td>0.524</td>\n",
       "      <td>52.4</td>\n",
       "      <td>35905</td>\n",
       "      <td>0.003</td>\n",
       "      <td>0.3</td>\n",
       "      <td>107.715</td>\n",
       "      <td>35797.285</td>\n",
       "      <td>99.7</td>\n",
       "    </tr>\n",
       "    <tr>\n",
       "      <th>2</th>\n",
       "      <td>2017</td>\n",
       "      <td>Annual</td>\n",
       "      <td>Nevada</td>\n",
       "      <td>0.230</td>\n",
       "      <td>23.0</td>\n",
       "      <td>13</td>\n",
       "      <td>0.923</td>\n",
       "      <td>92.3</td>\n",
       "      <td>2512</td>\n",
       "      <td>0.052</td>\n",
       "      <td>5.2</td>\n",
       "      <td>130.624</td>\n",
       "      <td>2381.376</td>\n",
       "      <td>94.8</td>\n",
       "    </tr>\n",
       "    <tr>\n",
       "      <th>3</th>\n",
       "      <td>2017</td>\n",
       "      <td>Annual</td>\n",
       "      <td>Maine</td>\n",
       "      <td>0.233</td>\n",
       "      <td>23.3</td>\n",
       "      <td>65</td>\n",
       "      <td>0.938</td>\n",
       "      <td>93.8</td>\n",
       "      <td>41102</td>\n",
       "      <td>0.014</td>\n",
       "      <td>1.4</td>\n",
       "      <td>575.428</td>\n",
       "      <td>40526.572</td>\n",
       "      <td>98.6</td>\n",
       "    </tr>\n",
       "    <tr>\n",
       "      <th>4</th>\n",
       "      <td>2017</td>\n",
       "      <td>Annual</td>\n",
       "      <td>Wyoming</td>\n",
       "      <td>0.234</td>\n",
       "      <td>23.4</td>\n",
       "      <td>18</td>\n",
       "      <td>0.778</td>\n",
       "      <td>77.8</td>\n",
       "      <td>6521</td>\n",
       "      <td>0.014</td>\n",
       "      <td>1.4</td>\n",
       "      <td>91.294</td>\n",
       "      <td>6429.706</td>\n",
       "      <td>98.6</td>\n",
       "    </tr>\n",
       "  </tbody>\n",
       "</table>\n",
       "</div>"
      ],
      "text/plain": [
       "   Year  Season          State    tal  talp  Beekeepers   beks  beksp  \\\n",
       "0  2017  Annual  Massachusetts  0.159  15.9          87  0.943   94.3   \n",
       "1  2017  Annual        Montana  0.171  17.1          21  0.524   52.4   \n",
       "2  2017  Annual         Nevada  0.230  23.0          13  0.923   92.3   \n",
       "3  2017  Annual          Maine  0.233  23.3          65  0.938   93.8   \n",
       "4  2017  Annual        Wyoming  0.234  23.4          18  0.778   77.8   \n",
       "\n",
       "   Colonies    ces  cesp  ces_col  trans_col  trans_col_per  \n",
       "0     27186  0.023   2.3  625.278  26560.722           97.7  \n",
       "1     35905  0.003   0.3  107.715  35797.285           99.7  \n",
       "2      2512  0.052   5.2  130.624   2381.376           94.8  \n",
       "3     41102  0.014   1.4  575.428  40526.572           98.6  \n",
       "4      6521  0.014   1.4   91.294   6429.706           98.6  "
      ]
     },
     "execution_count": 99,
     "metadata": {},
     "output_type": "execute_result"
    }
   ],
   "source": [
    "df.head()"
   ]
  },
  {
   "cell_type": "markdown",
   "metadata": {},
   "source": [
    "Barplot of percent of colonies transported out of state."
   ]
  },
  {
   "cell_type": "code",
   "execution_count": 112,
   "metadata": {},
   "outputs": [
    {
     "data": {
      "image/png": "[encoded data removed]",
      "text/plain": [
       "<Figure size 1080x576 with 1 Axes>"
      ]
     },
     "metadata": {},
     "output_type": "display_data"
    }
   ],
   "source": [
    "state_col = df[['State','trans_col_per']].groupby(['State']).mean()\n",
    "state_col = state_col['trans_col_per'].sort_values(ascending=False)[:50]\n",
    "\n",
    "state_col_keys = state_col.index\n",
    "state_col_val = state_col.values\n",
    "\n",
    "fig,ax = plt.subplots(figsize=(15,8))\n",
    "sns.barplot(x = state_col_keys,y =state_col_val)\n",
    "\n",
    "plt.title('Percent of Colonies Transported out of State')\n",
    "plt.ylabel('Percentage')\n",
    "ticks = plt.setp(ax.get_xticklabels(),rotation=90)"
   ]
  },
  {
   "cell_type": "markdown",
   "metadata": {},
   "source": [
    "Comparing boxplots of total annual loss percentage and colonies transported percentage. A couple things are worth noting...\n",
    "1. Since 2013 there is a very significant increase in the amount of colonies transported out of state. This coincides with a slight increase in the total annual colony loss. \n",
    "2. See below, the is a very weak correlation (method: pearson) between total annual colony loss (talp) and colonies transported out of state (trans_col_per). "
   ]
  },
  {
   "cell_type": "code",
   "execution_count": 102,
   "metadata": {},
   "outputs": [
    {
     "data": {
      "text/plain": [
       "array([[<matplotlib.axes._subplots.AxesSubplot object at 0x00000266C8C63B38>,\n",
       "        <matplotlib.axes._subplots.AxesSubplot object at 0x00000266C544CA58>],\n",
       "       [<matplotlib.axes._subplots.AxesSubplot object at 0x00000266B511E1D0>,\n",
       "        <matplotlib.axes._subplots.AxesSubplot object at 0x00000266B50E6BA8>]],\n",
       "      dtype=object)"
      ]
     },
     "execution_count": 102,
     "metadata": {},
     "output_type": "execute_result"
    },
    {
     "data": {
      "image/png": "[encoded data removed]",
      "text/plain": [
       "<Figure size 1080x576 with 4 Axes>"
      ]
     },
     "metadata": {},
     "output_type": "display_data"
    }
   ],
   "source": [
    "df.boxplot(column=['talp', 'trans_col_per'], by=['Year'], layout = (2,2), rot=90, fontsize=7, figsize=(15,8))\n"
   ]
  },
  {
   "cell_type": "code",
   "execution_count": 189,
   "metadata": {},
   "outputs": [
    {
     "data": {
      "text/html": [
       "<div>\n",
       "<style scoped>\n",
       "    .dataframe tbody tr th:only-of-type {\n",
       "        vertical-align: middle;\n",
       "    }\n",
       "\n",
       "    .dataframe tbody tr th {\n",
       "        vertical-align: top;\n",
       "    }\n",
       "\n",
       "    .dataframe thead th {\n",
       "        text-align: right;\n",
       "    }\n",
       "</style>\n",
       "<table border=\"1\" class=\"dataframe\">\n",
       "  <thead>\n",
       "    <tr style=\"text-align: right;\">\n",
       "      <th></th>\n",
       "      <th>talp</th>\n",
       "      <th>trans_col_per</th>\n",
       "    </tr>\n",
       "  </thead>\n",
       "  <tbody>\n",
       "    <tr>\n",
       "      <th>talp</th>\n",
       "      <td>1.000000</td>\n",
       "      <td>-0.040362</td>\n",
       "    </tr>\n",
       "    <tr>\n",
       "      <th>trans_col_per</th>\n",
       "      <td>-0.040362</td>\n",
       "      <td>1.000000</td>\n",
       "    </tr>\n",
       "  </tbody>\n",
       "</table>\n",
       "</div>"
      ],
      "text/plain": [
       "                   talp  trans_col_per\n",
       "talp           1.000000      -0.040362\n",
       "trans_col_per -0.040362       1.000000"
      ]
     },
     "execution_count": 189,
     "metadata": {},
     "output_type": "execute_result"
    }
   ],
   "source": [
    "df_corr = df[['talp','trans_col_per']]\n",
    "correlation = df_corr.corr(method='pearson')\n",
    "correlation"
   ]
  },
  {
   "cell_type": "markdown",
   "metadata": {},
   "source": [
    "Barplot of just 2013 (year) when there was a huge jump in the colonies transported out state percentage (trans_col_per). "
   ]
  },
  {
   "cell_type": "code",
   "execution_count": 145,
   "metadata": {},
   "outputs": [
    {
     "data": {
      "image/png": "[encoded data removed]",
      "text/plain": [
       "<Figure size 1080x576 with 1 Axes>"
      ]
     },
     "metadata": {},
     "output_type": "display_data"
    }
   ],
   "source": [
    "state_col = yr[['State','trans_col']].groupby(['State']).mean()\n",
    "state_col = state_col['trans_col'].sort_values(ascending=False)[:50]\n",
    "\n",
    "state_col_keys = state_col.index\n",
    "state_col_val = state_col.values\n",
    "\n",
    "fig,ax = plt.subplots(figsize=(15,8))\n",
    "sns.barplot(x = state_col_keys,y =state_col_val)\n",
    "\n",
    "plt.title('Colonies Transported out of State')\n",
    "plt.ylabel('Percentage')\n",
    "ticks = plt.setp(ax.get_xticklabels(),rotation=90)"
   ]
  },
  {
   "cell_type": "markdown",
   "metadata": {},
   "source": [
    "Honey bee colonies shipped from all over the United States to California for Almond harvest. \n",
    "https://www.npr.org/2017/03/09/519500033/bees-travel-cross-country-for-the-california-almond-harvest"
   ]
  },
  {
   "cell_type": "markdown",
   "metadata": {},
   "source": [
    "When the dataframe is groupby Year and using get_group(2013). The scatter plot between total annual colony loss (talp) and colonies transported out of state percentage (trans_col_per) show no clear relationship. "
   ]
  },
  {
   "cell_type": "code",
   "execution_count": 177,
   "metadata": {},
   "outputs": [
    {
     "data": {
      "text/plain": [
       "<seaborn.axisgrid.FacetGrid at 0x266b874f668>"
      ]
     },
     "execution_count": 177,
     "metadata": {},
     "output_type": "execute_result"
    },
    {
     "data": {
      "image/png": "[encoded data removed]",
      "text/plain": [
       "<Figure size 360x360 with 1 Axes>"
      ]
     },
     "metadata": {},
     "output_type": "display_data"
    }
   ],
   "source": [
    "yr = df.groupby(['Year']).get_group(2013)\n",
    "yr\n",
    "\n",
    "\n",
    "sns.lmplot( x=\"trans_col_per\", y=\"talp\", data=yr, fit_reg=False)\n",
    "\n",
    "\n",
    "#yr.boxplot(column=['talp', 'trans_col_per'], by=['State'], layout = (2,2), rot=90, fontsize=7, figsize=(15,8))\n",
    "\n",
    "# sns.lmplot('talp','trans_col_per',data=yr, hue='State',\n",
    "#            palette='coolwarm',size=6,aspect=1,fit_reg=False)\n",
    "\n",
    "#sns.regplot(x=yr[\"trans_col_per\"], y=yr[\"talp\"], fit_reg=False)\n",
    "#sns.jointplot(x='trans_col_per',y='talp',data=yr,kind='reg')\n",
    "\n"
   ]
  },
  {
   "cell_type": "markdown",
   "metadata": {},
   "source": [
    "Question 3. Is the t-statistic more significant between Colonies and colonies transported out of state? "
   ]
  },
  {
   "cell_type": "code",
   "execution_count": 203,
   "metadata": {},
   "outputs": [
    {
     "name": "stdout",
     "output_type": "stream",
     "text": [
      "Mean Colonies: 37175.52602739726\n",
      "Mean trans_col: 34815.12358356165\n",
      "-------\n",
      "Std Colonies: 86769.74571760808\n",
      "Std trans_col: 83315.97715783949\n"
     ]
    }
   ],
   "source": [
    "\n",
    "print('Mean Colonies:', df['Colonies'].mean())\n",
    "print('Mean trans_col:', df['trans_col'].mean())\n",
    "print('-------')\n",
    "print('Std Colonies:', df['Colonies'].std())\n",
    "print('Std trans_col:', df['trans_col'].std())"
   ]
  },
  {
   "cell_type": "code",
   "execution_count": 204,
   "metadata": {},
   "outputs": [
    {
     "name": "stdout",
     "output_type": "stream",
     "text": [
      "Difference in Means between Colonies and trans_col: -2360.4024438356064\n"
     ]
    }
   ],
   "source": [
    "diff=df['trans_col'].mean( ) -df['Colonies'].mean()\n",
    "print('Difference in Means between Colonies and trans_col:', diff)"
   ]
  },
  {
   "cell_type": "code",
   "execution_count": 205,
   "metadata": {},
   "outputs": [
    {
     "name": "stdout",
     "output_type": "stream",
     "text": [
      "Difference in means divided by std error - T-Value: -0.37487813138219406\n"
     ]
    }
   ],
   "source": [
    "size = np.array([len(df['Colonies']), len(df['trans_col'])])\n",
    "sd = np.array([df['Colonies'].std(), df['trans_col'].std()])\n",
    "\n",
    "diff_se = (sum(sd ** 2 / size)) ** 0.5  \n",
    "\n",
    "print('Difference in means divided by std error - T-Value:', diff/diff_se)"
   ]
  },
  {
   "cell_type": "code",
   "execution_count": 206,
   "metadata": {},
   "outputs": [
    {
     "name": "stdout",
     "output_type": "stream",
     "text": [
      "T-statistic and p-value for the 2 sample populations: Ttest_indResult(statistic=-0.3748781313821965, pvalue=0.7078604644719053)\n"
     ]
    }
   ],
   "source": [
    "from scipy.stats import ttest_ind\n",
    "print('T-statistic and p-value for the 2 sample populations:', ttest_ind(df['trans_col'], df['Colonies'], equal_var=False))\n",
    "#null hypothesis the means are the same\n",
    "#alternate hypothesis means are difference \n",
    "# p-value the difference between observed means\n",
    "# p-value what is the probability of see the difference of the means were true this a relatively rare event. \n",
    "# Reject Null \n",
    "# 95 times out of 100 we don't reject the null \n",
    "# Statistical significance - statement would happen very infrequently "
   ]
  },
  {
   "cell_type": "markdown",
   "metadata": {},
   "source": [
    "The t-statistic of 0.3748781313821965 does not fall within a 95% confidence interval. \n",
    "\n",
    "There is not a significant difference between Colonies and Colonies transported. Accept the Null Hypothesis Ho because the the p value is 0.707. \n",
    "\n",
    "There is not a significant difference between in the means for the variables Colonies and colonies transported out of state (trans_col). "
   ]
  }
 ],
 "metadata": {
  "kernelspec": {
   "display_name": "Python 3",
   "language": "python",
   "name": "python3"
  },
  "language_info": {
   "codemirror_mode": {
    "name": "ipython",
    "version": 3
   },
   "file_extension": ".py",
   "mimetype": "text/x-python",
   "name": "python",
   "nbconvert_exporter": "python",
   "pygments_lexer": "ipython3",
   "version": "3.6.5"
  }
 },
 "nbformat": 4,
 "nbformat_minor": 2
}
